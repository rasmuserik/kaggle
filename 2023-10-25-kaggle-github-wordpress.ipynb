{
 "cells": [
  {
   "cell_type": "code",
   "execution_count": null,
   "id": "3b5d8e19",
   "metadata": {
    "_cell_guid": "b1076dfc-b9ad-4769-8c92-a6c4dae69d19",
    "_uuid": "8f2839f25d086af736a60e9eeb907d3b93b6e0e5",
    "papermill": {
     "duration": 0.002514,
     "end_time": "2023-10-25T20:22:44.572151",
     "exception": false,
     "start_time": "2023-10-25T20:22:44.569637",
     "status": "completed"
    },
    "tags": []
   },
   "outputs": [],
   "source": []
  },
  {
   "cell_type": "markdown",
   "id": "f37213d1",
   "metadata": {
    "papermill": {
     "duration": 0.001763,
     "end_time": "2023-10-25T20:22:44.576109",
     "exception": false,
     "start_time": "2023-10-25T20:22:44.574346",
     "status": "completed"
    },
    "tags": []
   },
   "source": [
    "# Kaggle + GitHub + WordPress integration\n",
    "\n",
    "This notebook is an experiment with kaggle/github/wordpress integrations. The purpose is to make a workflow, where kaggle notebooks is backed up on github (and local server), and easily published on a wordpress site.\n",
    "\n",
    "GitHub integration is done by \"Link to GitHub\" from the file menu, and saving.\n",
    "\n",
    "<s>WordPress integration is done with the \"Documents from Git\" plugin. This need a read-access token to github, which can be created under https://github.com/settings/apps. Token is added under `Settings` / `Documents from Git`. Then notebooks can be included in wordpress with the shortcode `[git-github-jupyter url=\"https://github.com/rasmuserik/kaggle/blob/main/2023-10-25-kaggle-github-wordpress.ipynb\"\"]`</s> \"Documents from Git\"-plugin is [deprecated](https://github.com/gis-ops/wordpress-markdown-git/issues/41).\n",
    "\n",
    "Alternative existing solutions could be:\n",
    "\n",
    "- https://github.com/cdalinghaus/wordpress-ipynb-git-bridge\n",
    "- https://github.com/Pybonacci/jupy2wp\n",
    "\n",
    "Best approach is probably to have a commit-hook (or github action) push it to wordpress. (Not done yet)."
   ]
  },
  {
   "cell_type": "markdown",
   "id": "a29b4df6",
   "metadata": {
    "papermill": {
     "duration": 0.003512,
     "end_time": "2023-10-25T20:22:44.581551",
     "exception": false,
     "start_time": "2023-10-25T20:22:44.578039",
     "status": "completed"
    },
    "tags": []
   },
   "source": []
  },
  {
   "cell_type": "markdown",
   "id": "2bea99b0",
   "metadata": {
    "papermill": {
     "duration": 0.001654,
     "end_time": "2023-10-25T20:22:44.585131",
     "exception": false,
     "start_time": "2023-10-25T20:22:44.583477",
     "status": "completed"
    },
    "tags": []
   },
   "source": [
    "# "
   ]
  }
 ],
 "metadata": {
  "kernelspec": {
   "display_name": "Python 3",
   "language": "python",
   "name": "python3"
  },
  "language_info": {
   "codemirror_mode": {
    "name": "ipython",
    "version": 3
   },
   "file_extension": ".py",
   "mimetype": "text/x-python",
   "name": "python",
   "nbconvert_exporter": "python",
   "pygments_lexer": "ipython3",
   "version": "3.10.12"
  },
  "papermill": {
   "default_parameters": {},
   "duration": 3.872193,
   "end_time": "2023-10-25T20:22:44.906555",
   "environment_variables": {},
   "exception": null,
   "input_path": "__notebook__.ipynb",
   "output_path": "__notebook__.ipynb",
   "parameters": {},
   "start_time": "2023-10-25T20:22:41.034362",
   "version": "2.4.0"
  }
 },
 "nbformat": 4,
 "nbformat_minor": 5
}
