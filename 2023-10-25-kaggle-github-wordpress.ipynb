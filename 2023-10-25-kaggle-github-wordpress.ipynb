{
 "cells": [
  {
   "cell_type": "code",
   "execution_count": null,
   "id": "9abae60a",
   "metadata": {
    "_cell_guid": "b1076dfc-b9ad-4769-8c92-a6c4dae69d19",
    "_uuid": "8f2839f25d086af736a60e9eeb907d3b93b6e0e5",
    "papermill": {
     "duration": 0.002138,
     "end_time": "2023-10-25T19:51:20.971318",
     "exception": false,
     "start_time": "2023-10-25T19:51:20.969180",
     "status": "completed"
    },
    "tags": []
   },
   "outputs": [],
   "source": []
  },
  {
   "cell_type": "markdown",
   "id": "d3752457",
   "metadata": {
    "papermill": {
     "duration": 0.001377,
     "end_time": "2023-10-25T19:51:20.974581",
     "exception": false,
     "start_time": "2023-10-25T19:51:20.973204",
     "status": "completed"
    },
    "tags": []
   },
   "source": [
    "# Kaggle + GitHub + WordPress integration\n",
    "\n",
    "This notebook is an experiment with kaggle/github/wordpress integrations. The purpose is to make a workflow, where kaggle notebooks is backed up on github (and local server), and easily published on a wordpress site.\n",
    "\n",
    "GitHub integration is done by \"Link to GitHub\" from the file menu, and saving.\n",
    "\n"
   ]
  },
  {
   "cell_type": "markdown",
   "id": "49c4d8e7",
   "metadata": {
    "papermill": {
     "duration": 0.003089,
     "end_time": "2023-10-25T19:51:20.979225",
     "exception": false,
     "start_time": "2023-10-25T19:51:20.976136",
     "status": "completed"
    },
    "tags": []
   },
   "source": []
  },
  {
   "cell_type": "markdown",
   "id": "0cb8c094",
   "metadata": {
    "papermill": {
     "duration": 0.001304,
     "end_time": "2023-10-25T19:51:20.982101",
     "exception": false,
     "start_time": "2023-10-25T19:51:20.980797",
     "status": "completed"
    },
    "tags": []
   },
   "source": [
    "# "
   ]
  }
 ],
 "metadata": {
  "kernelspec": {
   "display_name": "Python 3",
   "language": "python",
   "name": "python3"
  },
  "language_info": {
   "codemirror_mode": {
    "name": "ipython",
    "version": 3
   },
   "file_extension": ".py",
   "mimetype": "text/x-python",
   "name": "python",
   "nbconvert_exporter": "python",
   "pygments_lexer": "ipython3",
   "version": "3.10.12"
  },
  "papermill": {
   "default_parameters": {},
   "duration": 3.635376,
   "end_time": "2023-10-25T19:51:21.402963",
   "environment_variables": {},
   "exception": null,
   "input_path": "__notebook__.ipynb",
   "output_path": "__notebook__.ipynb",
   "parameters": {},
   "start_time": "2023-10-25T19:51:17.767587",
   "version": "2.4.0"
  }
 },
 "nbformat": 4,
 "nbformat_minor": 5
}
