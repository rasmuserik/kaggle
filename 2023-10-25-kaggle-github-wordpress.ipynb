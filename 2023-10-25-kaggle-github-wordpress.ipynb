{
 "cells": [
  {
   "cell_type": "code",
   "execution_count": null,
   "id": "99682860",
   "metadata": {
    "_cell_guid": "b1076dfc-b9ad-4769-8c92-a6c4dae69d19",
    "_uuid": "8f2839f25d086af736a60e9eeb907d3b93b6e0e5",
    "papermill": {
     "duration": 0.002764,
     "end_time": "2023-10-25T20:04:44.745598",
     "exception": false,
     "start_time": "2023-10-25T20:04:44.742834",
     "status": "completed"
    },
    "tags": []
   },
   "outputs": [],
   "source": []
  },
  {
   "cell_type": "markdown",
   "id": "aa5ec045",
   "metadata": {
    "papermill": {
     "duration": 0.001877,
     "end_time": "2023-10-25T20:04:44.749921",
     "exception": false,
     "start_time": "2023-10-25T20:04:44.748044",
     "status": "completed"
    },
    "tags": []
   },
   "source": [
    "# Kaggle + GitHub + WordPress integration\n",
    "\n",
    "This notebook is an experiment with kaggle/github/wordpress integrations. The purpose is to make a workflow, where kaggle notebooks is backed up on github (and local server), and easily published on a wordpress site.\n",
    "\n",
    "GitHub integration is done by \"Link to GitHub\" from the file menu, and saving.\n",
    "\n",
    "WordPress integration is done with the \"Documents from Git\" plugin. This need a read-access token to github, which can be created under https://github.com/settings/apps. Token is added under `Settings` / `Documents from Git`.\n",
    "\n",
    "Then notebooks can be included in wordpress with the shortcode `[git-github-jupyter url=\"https://github.com/rasmuserik/kaggle/blob/master/python/2023-10-25-kaggle-github-wordpress.ipynb\"]`"
   ]
  },
  {
   "cell_type": "markdown",
   "id": "47fb7f67",
   "metadata": {
    "papermill": {
     "duration": 0.003859,
     "end_time": "2023-10-25T20:04:44.755883",
     "exception": false,
     "start_time": "2023-10-25T20:04:44.752024",
     "status": "completed"
    },
    "tags": []
   },
   "source": []
  },
  {
   "cell_type": "markdown",
   "id": "fc895d10",
   "metadata": {
    "papermill": {
     "duration": 0.002047,
     "end_time": "2023-10-25T20:04:44.760280",
     "exception": false,
     "start_time": "2023-10-25T20:04:44.758233",
     "status": "completed"
    },
    "tags": []
   },
   "source": [
    "# "
   ]
  }
 ],
 "metadata": {
  "kernelspec": {
   "display_name": "Python 3",
   "language": "python",
   "name": "python3"
  },
  "language_info": {
   "codemirror_mode": {
    "name": "ipython",
    "version": 3
   },
   "file_extension": ".py",
   "mimetype": "text/x-python",
   "name": "python",
   "nbconvert_exporter": "python",
   "pygments_lexer": "ipython3",
   "version": "3.10.12"
  },
  "papermill": {
   "default_parameters": {},
   "duration": 4.346778,
   "end_time": "2023-10-25T20:04:45.183919",
   "environment_variables": {},
   "exception": null,
   "input_path": "__notebook__.ipynb",
   "output_path": "__notebook__.ipynb",
   "parameters": {},
   "start_time": "2023-10-25T20:04:40.837141",
   "version": "2.4.0"
  }
 },
 "nbformat": 4,
 "nbformat_minor": 5
}
